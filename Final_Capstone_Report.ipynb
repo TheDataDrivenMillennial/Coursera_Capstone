{
 "cells": [
  {
   "cell_type": "markdown",
   "metadata": {},
   "source": [
    "**Introduction**"
   ]
  },
  {
   "cell_type": "markdown",
   "metadata": {},
   "source": [
    "The restaurant business is very competitive. Over 50% of restaurants go out of business within the first three years of opening. However, choosing a location that is not already overly saturated with restaurants could help a restaurant survive.\n",
    "\n",
    "In this project we will source out the best location for a restaurant in Oklahoma City. The best location will have a dense population and low amount of restaurants. We will divide Oklahoma City into nine main sections based on the intersections of the six main highways and choose the best location from the nine sections. \n",
    "\n",
    "A company or individual who is looking to open a restaurant in Oklahoma City is the target audience for this project. The results of this project will help make a logical decision on the best place for a new restaurant in Oklahoma City. "
   ]
  },
  {
   "cell_type": "markdown",
   "metadata": {},
   "source": [
    "**Data**"
   ]
  },
  {
   "cell_type": "markdown",
   "metadata": {},
   "source": [
    "We will be using Foursquare API to obtain our data. Since there is no clear definition of neighborhoods or districts for Oklahoma City, the project decides to divide Oklahoma City into nine parts by the intersections of six main highways that pass through Oklahoma City. Then, we will explore the venues of each area by using Foursquare API, which will return venues with coordinates and category. Our goal is to find the largest ratio of number of grocery stores to the number of restaurants in one section which will then be the best location for a new restaurant.\n"
   ]
  },
  {
   "cell_type": "markdown",
   "metadata": {},
   "source": [
    "**Methodology**"
   ]
  },
  {
   "cell_type": "markdown",
   "metadata": {},
   "source": [
    "There are no clear definition of neighborhoods or districts for Oklahoma City, the project decides to divide Oklahoma City into nine parts by the intersections of six main highways that pass through Oklahoma City. Those six main highways are OK74, US77, I35 which pass through OKC from north to south and I40, I44, John Kilpatrick Turnpike which pass through OKC from west to east.The nine intersections of six highways will be counted as the center of corresponding area. The nine sections will be called Middle, South, North, West, East, Southwest, Southwest, Northwest, and Northeast. "
   ]
  },
  {
   "cell_type": "markdown",
   "metadata": {},
   "source": [
    "_This project will count the center of midwest city as the new southeast center_"
   ]
  },
  {
   "cell_type": "code",
   "execution_count": 15,
   "metadata": {},
   "outputs": [],
   "source": [
    "import pandas as pd # library for data analsysis\n",
    "import numpy as np # library to handle data in a vectorized manner\n"
   ]
  },
  {
   "cell_type": "code",
   "execution_count": 16,
   "metadata": {},
   "outputs": [
    {
     "data": {
      "text/html": [
       "<div>\n",
       "<style scoped>\n",
       "    .dataframe tbody tr th:only-of-type {\n",
       "        vertical-align: middle;\n",
       "    }\n",
       "\n",
       "    .dataframe tbody tr th {\n",
       "        vertical-align: top;\n",
       "    }\n",
       "\n",
       "    .dataframe thead th {\n",
       "        text-align: right;\n",
       "    }\n",
       "</style>\n",
       "<table border=\"1\" class=\"dataframe\">\n",
       "  <thead>\n",
       "    <tr style=\"text-align: right;\">\n",
       "      <th></th>\n",
       "      <th>Area</th>\n",
       "      <th>Latitude</th>\n",
       "      <th>Longitude</th>\n",
       "    </tr>\n",
       "  </thead>\n",
       "  <tbody>\n",
       "    <tr>\n",
       "      <th>0</th>\n",
       "      <td>Middle</td>\n",
       "      <td>35.529652</td>\n",
       "      <td>-97.513947</td>\n",
       "    </tr>\n",
       "    <tr>\n",
       "      <th>1</th>\n",
       "      <td>South</td>\n",
       "      <td>35.462865</td>\n",
       "      <td>-97.495157</td>\n",
       "    </tr>\n",
       "    <tr>\n",
       "      <th>2</th>\n",
       "      <td>North</td>\n",
       "      <td>35.599336</td>\n",
       "      <td>-97.504152</td>\n",
       "    </tr>\n",
       "    <tr>\n",
       "      <th>3</th>\n",
       "      <td>West</td>\n",
       "      <td>35.511339</td>\n",
       "      <td>-97.576386</td>\n",
       "    </tr>\n",
       "    <tr>\n",
       "      <th>4</th>\n",
       "      <td>East</td>\n",
       "      <td>35.538950</td>\n",
       "      <td>-97.460976</td>\n",
       "    </tr>\n",
       "    <tr>\n",
       "      <th>5</th>\n",
       "      <td>Southwest</td>\n",
       "      <td>35.461761</td>\n",
       "      <td>-97.575795</td>\n",
       "    </tr>\n",
       "    <tr>\n",
       "      <th>6</th>\n",
       "      <td>Southeast</td>\n",
       "      <td>35.464067</td>\n",
       "      <td>-97.406217</td>\n",
       "    </tr>\n",
       "    <tr>\n",
       "      <th>7</th>\n",
       "      <td>Northwest</td>\n",
       "      <td>35.610904</td>\n",
       "      <td>-97.585991</td>\n",
       "    </tr>\n",
       "    <tr>\n",
       "      <th>8</th>\n",
       "      <td>Northeast</td>\n",
       "      <td>35.600369</td>\n",
       "      <td>-97.432060</td>\n",
       "    </tr>\n",
       "  </tbody>\n",
       "</table>\n",
       "</div>"
      ],
      "text/plain": [
       "        Area   Latitude  Longitude\n",
       "0     Middle  35.529652 -97.513947\n",
       "1      South  35.462865 -97.495157\n",
       "2      North  35.599336 -97.504152\n",
       "3       West  35.511339 -97.576386\n",
       "4       East  35.538950 -97.460976\n",
       "5  Southwest  35.461761 -97.575795\n",
       "6  Southeast  35.464067 -97.406217\n",
       "7  Northwest  35.610904 -97.585991\n",
       "8  Northeast  35.600369 -97.432060"
      ]
     },
     "execution_count": 16,
     "metadata": {},
     "output_type": "execute_result"
    }
   ],
   "source": [
    "area = {'Area': ['Middle', 'South', 'North', 'West', 'East', 'Southwest', 'Southeast', 'Northwest', 'Northeast'], \n",
    "        'Latitude': [35.529652, 35.462865, 35.599336, 35.511339, 35.538950, 35.461761, 35.464067, 35.610904,35.600369],\n",
    "        'Longitude': [-97.513947, -97.495157, -97.504152, -97.576386, -97.460976, -97.575795,  -97.406217, -97.585991, -97.432060]}\n",
    "\n",
    "okc_data = pd.DataFrame(data=area)\n",
    "okc_data"
   ]
  },
  {
   "cell_type": "markdown",
   "metadata": {},
   "source": [
    "**Next we will plot each center on a map using the Folium library**"
   ]
  },
  {
   "cell_type": "code",
   "execution_count": 41,
   "metadata": {},
   "outputs": [
    {
     "name": "stdout",
     "output_type": "stream",
     "text": [
      "Collecting package metadata: done\n",
      "Solving environment: done\n",
      "\n",
      "# All requested packages already installed.\n",
      "\n"
     ]
    }
   ],
   "source": [
    "# Matplotlib and associated plotting modules\n",
    "import matplotlib.cm as cm\n",
    "import matplotlib.colors as colors\n",
    "\n",
    "!conda install -c conda-forge folium=0.5.0 --yes # uncomment this line if you haven't completed the Foursquare API lab\n",
    "import folium # map rendering library\n",
    "import requests # library to handle requests\n",
    "import json # library to handle JSON files"
   ]
  },
  {
   "cell_type": "code",
   "execution_count": 42,
   "metadata": {},
   "outputs": [
    {
     "name": "stdout",
     "output_type": "stream",
     "text": [
      "The geograpical coordinate of Oklahoma City are 35.4729886, -97.5170536.\n"
     ]
    }
   ],
   "source": [
    "# use geopy libirary to get coordinates of OKC\n",
    "from geopy.geocoders import Nominatim # module to convert an address into latitude and longitude values\n",
    "\n",
    "address = 'Oklahoma City, OK'\n",
    "\n",
    "geolocator = Nominatim(user_agent=\"okc_explorer\")\n",
    "location = geolocator.geocode(address)\n",
    "okc_latitude = location.latitude\n",
    "okc_longitude = location.longitude\n",
    "print('The geograpical coordinate of Oklahoma City are {}, {}.'.format(okc_latitude, okc_longitude))"
   ]
  },
  {
   "cell_type": "code",
   "execution_count": 55,
   "metadata": {},
   "outputs": [
    {
     "data": {
      "text/html": [
       "<div style=\"width:100%;\"><div style=\"position:relative;width:100%;height:0;padding-bottom:60%;\"><iframe src=\"data:text/html;charset=utf-8;base64,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\" style=\"position:absolute;width:100%;height:100%;left:0;top:0;border:none !important;\" allowfullscreen webkitallowfullscreen mozallowfullscreen></iframe></div></div>"
      ],
      "text/plain": [
       "<folium.folium.Map at 0x7f9b92a65400>"
      ]
     },
     "execution_count": 55,
     "metadata": {},
     "output_type": "execute_result"
    }
   ],
   "source": [
    "# create map of Oklahoma City using latitude and longitude values\n",
    "okc_map = folium.Map(location=[okc_latitude, okc_longitude], zoom_start=11)\n",
    "\n",
    "# add markers to map\n",
    "for area, lat, lng in zip(okc_data['Area'], okc_data['Latitude'], okc_data['Longitude']):\n",
    "    label = '{}'.format(area)\n",
    "    label = folium.Popup(label, parse_html=True)\n",
    "    folium.CircleMarker(\n",
    "        [lat, lng],\n",
    "        radius=5,\n",
    "        popup=label,\n",
    "        color='blue',\n",
    "        fill=True,\n",
    "        fill_color='#3186cc',\n",
    "        fill_opacity=0.7,\n",
    "        parse_html=False).add_to(okc_map)  \n",
    "    \n",
    "okc_map"
   ]
  },
  {
   "cell_type": "markdown",
   "metadata": {},
   "source": [
    "**Now we will use Foursquare API to get venues for each of the nine sections**"
   ]
  },
  {
   "cell_type": "code",
   "execution_count": 44,
   "metadata": {},
   "outputs": [],
   "source": [
    "CLIENT_ID = 'IIO0CADBGVWOK5XDCSCJHSMZUOIECGGBMTVFH2TEFNJRL2AE' \n",
    "CLIENT_SECRET = 'QLRQYIQBGFLQ52WV2M13FTUKJS5HPAFUEW4U4VOML00VVHF5' \n",
    "VERSION = '20180605' "
   ]
  },
  {
   "cell_type": "code",
   "execution_count": 46,
   "metadata": {},
   "outputs": [],
   "source": [
    "LIMIT = 100 # limit of number of venues returned by Foursquare API\n",
    "#radius = 500 \n",
    "\n",
    "def getNearbyVenues(names, latitudes, longitudes, radius=2000):\n",
    "    \n",
    "    venues_list=[]\n",
    "    for name, lat, lng in zip(names, latitudes, longitudes):\n",
    "        print(name)\n",
    "# create the API request URL\n",
    "        url='https://api.foursquare.com/v2/venues/explore?&client_id={}&client_secret={}&v={}&ll={},{}&radius={}&limit={}'.format(\n",
    "            CLIENT_ID, \n",
    "            CLIENT_SECRET, \n",
    "            VERSION, \n",
    "            lat, \n",
    "            lng, \n",
    "            radius, \n",
    "            LIMIT)\n",
    "            \n",
    "        # make the GET request\n",
    "        results = requests.get(url).json()[\"response\"]['groups'][0]['items']\n",
    "        \n",
    "        # return only relevant information for each nearby venue\n",
    "        venues_list.append([(\n",
    "            name, \n",
    "            lat, \n",
    "            lng, \n",
    "            v['venue']['name'], \n",
    "            v['venue']['location']['lat'], \n",
    "            v['venue']['location']['lng'],  \n",
    "            v['venue']['categories'][0]['name']) for v in results])\n",
    "\n",
    "    nearby_venues = pd.DataFrame([item for venue_list in venues_list for item in venue_list])\n",
    "    nearby_venues.columns = ['Area', \n",
    "                  'Area Latitude', \n",
    "                  'Area Longitude', \n",
    "                  'Venue', \n",
    "                  'Venue Latitude', \n",
    "                  'Venue Longitude', \n",
    "                  'Venue Category']\n",
    "    \n",
    "    return(nearby_venues)            "
   ]
  },
  {
   "cell_type": "code",
   "execution_count": 47,
   "metadata": {},
   "outputs": [
    {
     "name": "stdout",
     "output_type": "stream",
     "text": [
      "Middle\n",
      "South\n",
      "North\n",
      "West\n",
      "East\n",
      "Southwest\n",
      "Southeast\n",
      "Northwest\n",
      "Northeast\n"
     ]
    }
   ],
   "source": [
    "okc_venues=getNearbyVenues(names=okc_data['Area'],\n",
    "                                   latitudes=okc_data['Latitude'],\n",
    "                                   longitudes=okc_data['Longitude']\n",
    "                                  )\n",
    "                                  "
   ]
  },
  {
   "cell_type": "code",
   "execution_count": 48,
   "metadata": {},
   "outputs": [
    {
     "name": "stdout",
     "output_type": "stream",
     "text": [
      "(474, 7)\n"
     ]
    },
    {
     "data": {
      "text/html": [
       "<div>\n",
       "<style scoped>\n",
       "    .dataframe tbody tr th:only-of-type {\n",
       "        vertical-align: middle;\n",
       "    }\n",
       "\n",
       "    .dataframe tbody tr th {\n",
       "        vertical-align: top;\n",
       "    }\n",
       "\n",
       "    .dataframe thead th {\n",
       "        text-align: right;\n",
       "    }\n",
       "</style>\n",
       "<table border=\"1\" class=\"dataframe\">\n",
       "  <thead>\n",
       "    <tr style=\"text-align: right;\">\n",
       "      <th></th>\n",
       "      <th>Area</th>\n",
       "      <th>Area Latitude</th>\n",
       "      <th>Area Longitude</th>\n",
       "      <th>Venue</th>\n",
       "      <th>Venue Latitude</th>\n",
       "      <th>Venue Longitude</th>\n",
       "      <th>Venue Category</th>\n",
       "    </tr>\n",
       "  </thead>\n",
       "  <tbody>\n",
       "    <tr>\n",
       "      <th>0</th>\n",
       "      <td>Middle</td>\n",
       "      <td>35.529652</td>\n",
       "      <td>-97.513947</td>\n",
       "      <td>The Shack</td>\n",
       "      <td>35.536220</td>\n",
       "      <td>-97.518536</td>\n",
       "      <td>Seafood Restaurant</td>\n",
       "    </tr>\n",
       "    <tr>\n",
       "      <th>1</th>\n",
       "      <td>Middle</td>\n",
       "      <td>35.529652</td>\n",
       "      <td>-97.513947</td>\n",
       "      <td>Bedlam BBQ</td>\n",
       "      <td>35.522051</td>\n",
       "      <td>-97.502132</td>\n",
       "      <td>BBQ Joint</td>\n",
       "    </tr>\n",
       "    <tr>\n",
       "      <th>2</th>\n",
       "      <td>Middle</td>\n",
       "      <td>35.529652</td>\n",
       "      <td>-97.513947</td>\n",
       "      <td>Whole Foods Market</td>\n",
       "      <td>35.534002</td>\n",
       "      <td>-97.530522</td>\n",
       "      <td>Grocery Store</td>\n",
       "    </tr>\n",
       "    <tr>\n",
       "      <th>3</th>\n",
       "      <td>Middle</td>\n",
       "      <td>35.529652</td>\n",
       "      <td>-97.513947</td>\n",
       "      <td>Vintage Coffee</td>\n",
       "      <td>35.521489</td>\n",
       "      <td>-97.530103</td>\n",
       "      <td>Coffee Shop</td>\n",
       "    </tr>\n",
       "    <tr>\n",
       "      <th>4</th>\n",
       "      <td>Middle</td>\n",
       "      <td>35.529652</td>\n",
       "      <td>-97.513947</td>\n",
       "      <td>Republic Gastropub</td>\n",
       "      <td>35.532408</td>\n",
       "      <td>-97.533954</td>\n",
       "      <td>Gastropub</td>\n",
       "    </tr>\n",
       "  </tbody>\n",
       "</table>\n",
       "</div>"
      ],
      "text/plain": [
       "     Area  Area Latitude  Area Longitude               Venue  Venue Latitude  \\\n",
       "0  Middle      35.529652      -97.513947           The Shack       35.536220   \n",
       "1  Middle      35.529652      -97.513947          Bedlam BBQ       35.522051   \n",
       "2  Middle      35.529652      -97.513947  Whole Foods Market       35.534002   \n",
       "3  Middle      35.529652      -97.513947      Vintage Coffee       35.521489   \n",
       "4  Middle      35.529652      -97.513947  Republic Gastropub       35.532408   \n",
       "\n",
       "   Venue Longitude      Venue Category  \n",
       "0       -97.518536  Seafood Restaurant  \n",
       "1       -97.502132           BBQ Joint  \n",
       "2       -97.530522       Grocery Store  \n",
       "3       -97.530103         Coffee Shop  \n",
       "4       -97.533954           Gastropub  "
      ]
     },
     "execution_count": 48,
     "metadata": {},
     "output_type": "execute_result"
    }
   ],
   "source": [
    "print(okc_venues.shape)\n",
    "okc_venues.head()"
   ]
  },
  {
   "cell_type": "code",
   "execution_count": 49,
   "metadata": {},
   "outputs": [
    {
     "data": {
      "text/html": [
       "<div>\n",
       "<style scoped>\n",
       "    .dataframe tbody tr th:only-of-type {\n",
       "        vertical-align: middle;\n",
       "    }\n",
       "\n",
       "    .dataframe tbody tr th {\n",
       "        vertical-align: top;\n",
       "    }\n",
       "\n",
       "    .dataframe thead th {\n",
       "        text-align: right;\n",
       "    }\n",
       "</style>\n",
       "<table border=\"1\" class=\"dataframe\">\n",
       "  <thead>\n",
       "    <tr style=\"text-align: right;\">\n",
       "      <th></th>\n",
       "      <th>Area Latitude</th>\n",
       "      <th>Area Longitude</th>\n",
       "      <th>Venue</th>\n",
       "      <th>Venue Latitude</th>\n",
       "      <th>Venue Longitude</th>\n",
       "      <th>Venue Category</th>\n",
       "    </tr>\n",
       "    <tr>\n",
       "      <th>Area</th>\n",
       "      <th></th>\n",
       "      <th></th>\n",
       "      <th></th>\n",
       "      <th></th>\n",
       "      <th></th>\n",
       "      <th></th>\n",
       "    </tr>\n",
       "  </thead>\n",
       "  <tbody>\n",
       "    <tr>\n",
       "      <th>East</th>\n",
       "      <td>27</td>\n",
       "      <td>27</td>\n",
       "      <td>27</td>\n",
       "      <td>27</td>\n",
       "      <td>27</td>\n",
       "      <td>27</td>\n",
       "    </tr>\n",
       "    <tr>\n",
       "      <th>Middle</th>\n",
       "      <td>69</td>\n",
       "      <td>69</td>\n",
       "      <td>69</td>\n",
       "      <td>69</td>\n",
       "      <td>69</td>\n",
       "      <td>69</td>\n",
       "    </tr>\n",
       "    <tr>\n",
       "      <th>North</th>\n",
       "      <td>15</td>\n",
       "      <td>15</td>\n",
       "      <td>15</td>\n",
       "      <td>15</td>\n",
       "      <td>15</td>\n",
       "      <td>15</td>\n",
       "    </tr>\n",
       "    <tr>\n",
       "      <th>Northeast</th>\n",
       "      <td>29</td>\n",
       "      <td>29</td>\n",
       "      <td>29</td>\n",
       "      <td>29</td>\n",
       "      <td>29</td>\n",
       "      <td>29</td>\n",
       "    </tr>\n",
       "    <tr>\n",
       "      <th>Northwest</th>\n",
       "      <td>75</td>\n",
       "      <td>75</td>\n",
       "      <td>75</td>\n",
       "      <td>75</td>\n",
       "      <td>75</td>\n",
       "      <td>75</td>\n",
       "    </tr>\n",
       "    <tr>\n",
       "      <th>South</th>\n",
       "      <td>96</td>\n",
       "      <td>96</td>\n",
       "      <td>96</td>\n",
       "      <td>96</td>\n",
       "      <td>96</td>\n",
       "      <td>96</td>\n",
       "    </tr>\n",
       "    <tr>\n",
       "      <th>Southeast</th>\n",
       "      <td>66</td>\n",
       "      <td>66</td>\n",
       "      <td>66</td>\n",
       "      <td>66</td>\n",
       "      <td>66</td>\n",
       "      <td>66</td>\n",
       "    </tr>\n",
       "    <tr>\n",
       "      <th>Southwest</th>\n",
       "      <td>30</td>\n",
       "      <td>30</td>\n",
       "      <td>30</td>\n",
       "      <td>30</td>\n",
       "      <td>30</td>\n",
       "      <td>30</td>\n",
       "    </tr>\n",
       "    <tr>\n",
       "      <th>West</th>\n",
       "      <td>67</td>\n",
       "      <td>67</td>\n",
       "      <td>67</td>\n",
       "      <td>67</td>\n",
       "      <td>67</td>\n",
       "      <td>67</td>\n",
       "    </tr>\n",
       "  </tbody>\n",
       "</table>\n",
       "</div>"
      ],
      "text/plain": [
       "           Area Latitude  Area Longitude  Venue  Venue Latitude  \\\n",
       "Area                                                              \n",
       "East                  27              27     27              27   \n",
       "Middle                69              69     69              69   \n",
       "North                 15              15     15              15   \n",
       "Northeast             29              29     29              29   \n",
       "Northwest             75              75     75              75   \n",
       "South                 96              96     96              96   \n",
       "Southeast             66              66     66              66   \n",
       "Southwest             30              30     30              30   \n",
       "West                  67              67     67              67   \n",
       "\n",
       "           Venue Longitude  Venue Category  \n",
       "Area                                        \n",
       "East                    27              27  \n",
       "Middle                  69              69  \n",
       "North                   15              15  \n",
       "Northeast               29              29  \n",
       "Northwest               75              75  \n",
       "South                   96              96  \n",
       "Southeast               66              66  \n",
       "Southwest               30              30  \n",
       "West                    67              67  "
      ]
     },
     "execution_count": 49,
     "metadata": {},
     "output_type": "execute_result"
    }
   ],
   "source": [
    "okc_venues.groupby('Area').count()"
   ]
  },
  {
   "cell_type": "code",
   "execution_count": 50,
   "metadata": {},
   "outputs": [
    {
     "name": "stdout",
     "output_type": "stream",
     "text": [
      "There are 156 uniques categories.\n"
     ]
    }
   ],
   "source": [
    "print('There are {} uniques categories.'.format(len(okc_venues['Venue Category'].unique())))"
   ]
  },
  {
   "cell_type": "markdown",
   "metadata": {},
   "source": [
    "**Utilize onehot to get the ratio of restaurants in each of the nine sections**"
   ]
  },
  {
   "cell_type": "code",
   "execution_count": 51,
   "metadata": {},
   "outputs": [
    {
     "data": {
      "text/html": [
       "<div>\n",
       "<style scoped>\n",
       "    .dataframe tbody tr th:only-of-type {\n",
       "        vertical-align: middle;\n",
       "    }\n",
       "\n",
       "    .dataframe tbody tr th {\n",
       "        vertical-align: top;\n",
       "    }\n",
       "\n",
       "    .dataframe thead th {\n",
       "        text-align: right;\n",
       "    }\n",
       "</style>\n",
       "<table border=\"1\" class=\"dataframe\">\n",
       "  <thead>\n",
       "    <tr style=\"text-align: right;\">\n",
       "      <th></th>\n",
       "      <th>Area</th>\n",
       "      <th>ATM</th>\n",
       "      <th>Accessories Store</th>\n",
       "      <th>American Restaurant</th>\n",
       "      <th>Antique Shop</th>\n",
       "      <th>Aquarium</th>\n",
       "      <th>Arcade</th>\n",
       "      <th>Art Gallery</th>\n",
       "      <th>Arts &amp; Crafts Store</th>\n",
       "      <th>Asian Restaurant</th>\n",
       "      <th>...</th>\n",
       "      <th>Video Store</th>\n",
       "      <th>Vietnamese Restaurant</th>\n",
       "      <th>Warehouse Store</th>\n",
       "      <th>Water Park</th>\n",
       "      <th>Whisky Bar</th>\n",
       "      <th>Wine Bar</th>\n",
       "      <th>Winery</th>\n",
       "      <th>Wings Joint</th>\n",
       "      <th>Women's Store</th>\n",
       "      <th>Zoo Exhibit</th>\n",
       "    </tr>\n",
       "  </thead>\n",
       "  <tbody>\n",
       "    <tr>\n",
       "      <th>0</th>\n",
       "      <td>Middle</td>\n",
       "      <td>0</td>\n",
       "      <td>0</td>\n",
       "      <td>0</td>\n",
       "      <td>0</td>\n",
       "      <td>0</td>\n",
       "      <td>0</td>\n",
       "      <td>0</td>\n",
       "      <td>0</td>\n",
       "      <td>0</td>\n",
       "      <td>...</td>\n",
       "      <td>0</td>\n",
       "      <td>0</td>\n",
       "      <td>0</td>\n",
       "      <td>0</td>\n",
       "      <td>0</td>\n",
       "      <td>0</td>\n",
       "      <td>0</td>\n",
       "      <td>0</td>\n",
       "      <td>0</td>\n",
       "      <td>0</td>\n",
       "    </tr>\n",
       "    <tr>\n",
       "      <th>1</th>\n",
       "      <td>Middle</td>\n",
       "      <td>0</td>\n",
       "      <td>0</td>\n",
       "      <td>0</td>\n",
       "      <td>0</td>\n",
       "      <td>0</td>\n",
       "      <td>0</td>\n",
       "      <td>0</td>\n",
       "      <td>0</td>\n",
       "      <td>0</td>\n",
       "      <td>...</td>\n",
       "      <td>0</td>\n",
       "      <td>0</td>\n",
       "      <td>0</td>\n",
       "      <td>0</td>\n",
       "      <td>0</td>\n",
       "      <td>0</td>\n",
       "      <td>0</td>\n",
       "      <td>0</td>\n",
       "      <td>0</td>\n",
       "      <td>0</td>\n",
       "    </tr>\n",
       "    <tr>\n",
       "      <th>2</th>\n",
       "      <td>Middle</td>\n",
       "      <td>0</td>\n",
       "      <td>0</td>\n",
       "      <td>0</td>\n",
       "      <td>0</td>\n",
       "      <td>0</td>\n",
       "      <td>0</td>\n",
       "      <td>0</td>\n",
       "      <td>0</td>\n",
       "      <td>0</td>\n",
       "      <td>...</td>\n",
       "      <td>0</td>\n",
       "      <td>0</td>\n",
       "      <td>0</td>\n",
       "      <td>0</td>\n",
       "      <td>0</td>\n",
       "      <td>0</td>\n",
       "      <td>0</td>\n",
       "      <td>0</td>\n",
       "      <td>0</td>\n",
       "      <td>0</td>\n",
       "    </tr>\n",
       "    <tr>\n",
       "      <th>3</th>\n",
       "      <td>Middle</td>\n",
       "      <td>0</td>\n",
       "      <td>0</td>\n",
       "      <td>0</td>\n",
       "      <td>0</td>\n",
       "      <td>0</td>\n",
       "      <td>0</td>\n",
       "      <td>0</td>\n",
       "      <td>0</td>\n",
       "      <td>0</td>\n",
       "      <td>...</td>\n",
       "      <td>0</td>\n",
       "      <td>0</td>\n",
       "      <td>0</td>\n",
       "      <td>0</td>\n",
       "      <td>0</td>\n",
       "      <td>0</td>\n",
       "      <td>0</td>\n",
       "      <td>0</td>\n",
       "      <td>0</td>\n",
       "      <td>0</td>\n",
       "    </tr>\n",
       "    <tr>\n",
       "      <th>4</th>\n",
       "      <td>Middle</td>\n",
       "      <td>0</td>\n",
       "      <td>0</td>\n",
       "      <td>0</td>\n",
       "      <td>0</td>\n",
       "      <td>0</td>\n",
       "      <td>0</td>\n",
       "      <td>0</td>\n",
       "      <td>0</td>\n",
       "      <td>0</td>\n",
       "      <td>...</td>\n",
       "      <td>0</td>\n",
       "      <td>0</td>\n",
       "      <td>0</td>\n",
       "      <td>0</td>\n",
       "      <td>0</td>\n",
       "      <td>0</td>\n",
       "      <td>0</td>\n",
       "      <td>0</td>\n",
       "      <td>0</td>\n",
       "      <td>0</td>\n",
       "    </tr>\n",
       "  </tbody>\n",
       "</table>\n",
       "<p>5 rows × 157 columns</p>\n",
       "</div>"
      ],
      "text/plain": [
       "     Area  ATM  Accessories Store  American Restaurant  Antique Shop  \\\n",
       "0  Middle    0                  0                    0             0   \n",
       "1  Middle    0                  0                    0             0   \n",
       "2  Middle    0                  0                    0             0   \n",
       "3  Middle    0                  0                    0             0   \n",
       "4  Middle    0                  0                    0             0   \n",
       "\n",
       "   Aquarium  Arcade  Art Gallery  Arts & Crafts Store  Asian Restaurant  ...  \\\n",
       "0         0       0            0                    0                 0  ...   \n",
       "1         0       0            0                    0                 0  ...   \n",
       "2         0       0            0                    0                 0  ...   \n",
       "3         0       0            0                    0                 0  ...   \n",
       "4         0       0            0                    0                 0  ...   \n",
       "\n",
       "   Video Store  Vietnamese Restaurant  Warehouse Store  Water Park  \\\n",
       "0            0                      0                0           0   \n",
       "1            0                      0                0           0   \n",
       "2            0                      0                0           0   \n",
       "3            0                      0                0           0   \n",
       "4            0                      0                0           0   \n",
       "\n",
       "   Whisky Bar  Wine Bar  Winery  Wings Joint  Women's Store  Zoo Exhibit  \n",
       "0           0         0       0            0              0            0  \n",
       "1           0         0       0            0              0            0  \n",
       "2           0         0       0            0              0            0  \n",
       "3           0         0       0            0              0            0  \n",
       "4           0         0       0            0              0            0  \n",
       "\n",
       "[5 rows x 157 columns]"
      ]
     },
     "execution_count": 51,
     "metadata": {},
     "output_type": "execute_result"
    }
   ],
   "source": [
    "# one hot encoding\n",
    "okc_onehot = pd.get_dummies(okc_venues[['Venue Category']], prefix=\"\", prefix_sep=\"\")\n",
    "\n",
    "# add area column back to dataframe\n",
    "okc_onehot['Area'] = okc_venues['Area'] \n",
    "\n",
    "# move area column to the first column\n",
    "fixed_columns = [okc_onehot.columns[-1]] + list(okc_onehot.columns[:-1])\n",
    "okc_onehot = okc_onehot[fixed_columns]\n",
    "\n",
    "okc_onehot.head()"
   ]
  },
  {
   "cell_type": "code",
   "execution_count": 52,
   "metadata": {},
   "outputs": [
    {
     "data": {
      "text/plain": [
       "(474, 157)"
      ]
     },
     "execution_count": 52,
     "metadata": {},
     "output_type": "execute_result"
    }
   ],
   "source": [
    "okc_onehot.shape"
   ]
  },
  {
   "cell_type": "code",
   "execution_count": 53,
   "metadata": {},
   "outputs": [],
   "source": [
    "okc_grouped = okc_onehot.groupby('Area').mean().reset_index()"
   ]
  },
  {
   "cell_type": "markdown",
   "metadata": {},
   "source": [
    "**Results**"
   ]
  },
  {
   "cell_type": "code",
   "execution_count": 54,
   "metadata": {},
   "outputs": [
    {
     "data": {
      "text/html": [
       "<div>\n",
       "<style scoped>\n",
       "    .dataframe tbody tr th:only-of-type {\n",
       "        vertical-align: middle;\n",
       "    }\n",
       "\n",
       "    .dataframe tbody tr th {\n",
       "        vertical-align: top;\n",
       "    }\n",
       "\n",
       "    .dataframe thead th {\n",
       "        text-align: right;\n",
       "    }\n",
       "</style>\n",
       "<table border=\"1\" class=\"dataframe\">\n",
       "  <thead>\n",
       "    <tr style=\"text-align: right;\">\n",
       "      <th></th>\n",
       "      <th>0</th>\n",
       "      <th>1</th>\n",
       "      <th>2</th>\n",
       "      <th>3</th>\n",
       "      <th>4</th>\n",
       "      <th>5</th>\n",
       "      <th>6</th>\n",
       "      <th>7</th>\n",
       "      <th>8</th>\n",
       "    </tr>\n",
       "  </thead>\n",
       "  <tbody>\n",
       "    <tr>\n",
       "      <th>Area</th>\n",
       "      <td>Middle</td>\n",
       "      <td>South</td>\n",
       "      <td>North</td>\n",
       "      <td>West</td>\n",
       "      <td>East</td>\n",
       "      <td>Southwest</td>\n",
       "      <td>Southeast</td>\n",
       "      <td>Northwest</td>\n",
       "      <td>Northeast</td>\n",
       "    </tr>\n",
       "    <tr>\n",
       "      <th>Grocery Store</th>\n",
       "      <td>0</td>\n",
       "      <td>0.0289855</td>\n",
       "      <td>0</td>\n",
       "      <td>0</td>\n",
       "      <td>0</td>\n",
       "      <td>0.0104167</td>\n",
       "      <td>0.0454545</td>\n",
       "      <td>0</td>\n",
       "      <td>0.0149254</td>\n",
       "    </tr>\n",
       "    <tr>\n",
       "      <th>Restaurant</th>\n",
       "      <td>0</td>\n",
       "      <td>0</td>\n",
       "      <td>0</td>\n",
       "      <td>0</td>\n",
       "      <td>0</td>\n",
       "      <td>0.0416667</td>\n",
       "      <td>0.0151515</td>\n",
       "      <td>0</td>\n",
       "      <td>0.0149254</td>\n",
       "    </tr>\n",
       "  </tbody>\n",
       "</table>\n",
       "</div>"
      ],
      "text/plain": [
       "                    0          1      2     3     4          5          6  \\\n",
       "Area           Middle      South  North  West  East  Southwest  Southeast   \n",
       "Grocery Store       0  0.0289855      0     0     0  0.0104167  0.0454545   \n",
       "Restaurant          0          0      0     0     0  0.0416667  0.0151515   \n",
       "\n",
       "                       7          8  \n",
       "Area           Northwest  Northeast  \n",
       "Grocery Store          0  0.0149254  \n",
       "Restaurant             0  0.0149254  "
      ]
     },
     "execution_count": 54,
     "metadata": {},
     "output_type": "execute_result"
    }
   ],
   "source": [
    "pd.DataFrame(data=[okc_data['Area'], okc_grouped['Grocery Store'], okc_grouped['Restaurant']])"
   ]
  },
  {
   "cell_type": "markdown",
   "metadata": {},
   "source": [
    "In the introduction it was stated that the goal of this project was to find the largest ratio between restaurants and grocery stores in order to find the best location for a new restaurant in Oklahoma City. The table above shows the largest ratio is the South with 0.0289855 and 0. "
   ]
  },
  {
   "cell_type": "markdown",
   "metadata": {},
   "source": [
    "**Discussion and Conclusion**"
   ]
  },
  {
   "cell_type": "markdown",
   "metadata": {},
   "source": [
    "This report was able to give a good general location for a new restaurant. In order to get a more accurate and precise location, more analysis on the South section should be made. Other factors could be taken into consideration as well such as, price of rent, average age of demographics in the area, etc. Opening a new restaurant is a large task that takes a lot of prior research and analysis. I would consider the work done in the report to be apart of the initial research done to find a great new location for a restaurant. "
   ]
  },
  {
   "cell_type": "code",
   "execution_count": null,
   "metadata": {},
   "outputs": [],
   "source": []
  }
 ],
 "metadata": {
  "kernelspec": {
   "display_name": "Python 3",
   "language": "python",
   "name": "python3"
  },
  "language_info": {
   "codemirror_mode": {
    "name": "ipython",
    "version": 3
   },
   "file_extension": ".py",
   "mimetype": "text/x-python",
   "name": "python",
   "nbconvert_exporter": "python",
   "pygments_lexer": "ipython3",
   "version": "3.6.8"
  }
 },
 "nbformat": 4,
 "nbformat_minor": 2
}
