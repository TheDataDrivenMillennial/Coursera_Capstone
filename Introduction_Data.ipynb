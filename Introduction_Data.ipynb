{
 "cells": [
  {
   "cell_type": "markdown",
   "metadata": {},
   "source": [
    "**Introduction**"
   ]
  },
  {
   "cell_type": "markdown",
   "metadata": {},
   "source": [
    "The restaurant business is very competitive. Over 50% of restaurants go out of business within the first three years of opening. However, choosing a location that is not already overly saturated with restaurants could help a restaurant survive.\n",
    "\n",
    "In this project we will source out the best location for a restaurant in Oklahoma City. The best location will have a dense population and low amount of restaurants. We will divide Oklahoma City into nine main sections based on the intersections of the six main highways and choose the best location from the nine sections. \n",
    "\n",
    "A company or individual who is looking to open a restaurant in Oklahoma City is the target audience for this project. The results of this project will help make a logical decision on the best place for a new restaurant in Oklahoma City. "
   ]
  },
  {
   "cell_type": "markdown",
   "metadata": {},
   "source": [
    "**Data**"
   ]
  },
  {
   "cell_type": "markdown",
   "metadata": {},
   "source": [
    "We will be using Foursquare API to obtain our data. Since there is no clear definition of neighborhoods or districts for Oklahoma City, the project decides to divide Oklahoma City into nine parts by the intersections of six main highways that pass through Oklahoma City. Then, we will explore the venues of each area by using Foursquare API, which will return venues with coordinates and category. Our goal is to find the largest ratio of number of grocery stores to the number of restaurant.\n"
   ]
  },
  {
   "cell_type": "code",
   "execution_count": null,
   "metadata": {},
   "outputs": [],
   "source": []
  }
 ],
 "metadata": {
  "kernelspec": {
   "display_name": "Python 3",
   "language": "python",
   "name": "python3"
  },
  "language_info": {
   "codemirror_mode": {
    "name": "ipython",
    "version": 3
   },
   "file_extension": ".py",
   "mimetype": "text/x-python",
   "name": "python",
   "nbconvert_exporter": "python",
   "pygments_lexer": "ipython3",
   "version": "3.6.8"
  }
 },
 "nbformat": 4,
 "nbformat_minor": 2
}
